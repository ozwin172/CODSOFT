{
 "cells": [
  {
   "cell_type": "code",
   "execution_count": 1,
   "id": "43004c85",
   "metadata": {},
   "outputs": [],
   "source": [
    "import pandas as pd\n",
    "import numpy as np"
   ]
  },
  {
   "cell_type": "code",
   "execution_count": 4,
   "id": "d90c7b4c",
   "metadata": {},
   "outputs": [],
   "source": [
    "import matplotlib.pyplot as py\n",
    "import plotly.express as pe\n",
    "import plotly.graph_objects as pg\n",
    "import seaborn as sb"
   ]
  },
  {
   "cell_type": "code",
   "execution_count": 5,
   "id": "322fcbbf",
   "metadata": {},
   "outputs": [],
   "source": [
    "import scipy"
   ]
  },
  {
   "cell_type": "code",
   "execution_count": 6,
   "id": "3f4ae25e",
   "metadata": {},
   "outputs": [],
   "source": [
    "from scipy.stats import skew\n",
    "from scipy.stats import kurtosis\n",
    "import pylab as pl"
   ]
  },
  {
   "cell_type": "code",
   "execution_count": 65,
   "id": "39f20c7d",
   "metadata": {},
   "outputs": [],
   "source": [
    "import statsmodels.api as sm"
   ]
  },
  {
   "cell_type": "code",
   "execution_count": 8,
   "id": "c18d1087",
   "metadata": {},
   "outputs": [],
   "source": [
    "data = pd.read_csv('advertising.csv')"
   ]
  },
  {
   "cell_type": "code",
   "execution_count": 9,
   "id": "f3b1189d",
   "metadata": {},
   "outputs": [
    {
     "data": {
      "text/html": [
       "<div>\n",
       "<style scoped>\n",
       "    .dataframe tbody tr th:only-of-type {\n",
       "        vertical-align: middle;\n",
       "    }\n",
       "\n",
       "    .dataframe tbody tr th {\n",
       "        vertical-align: top;\n",
       "    }\n",
       "\n",
       "    .dataframe thead th {\n",
       "        text-align: right;\n",
       "    }\n",
       "</style>\n",
       "<table border=\"1\" class=\"dataframe\">\n",
       "  <thead>\n",
       "    <tr style=\"text-align: right;\">\n",
       "      <th></th>\n",
       "      <th>TV</th>\n",
       "      <th>Radio</th>\n",
       "      <th>Newspaper</th>\n",
       "      <th>Sales</th>\n",
       "    </tr>\n",
       "  </thead>\n",
       "  <tbody>\n",
       "    <tr>\n",
       "      <th>0</th>\n",
       "      <td>230.1</td>\n",
       "      <td>37.8</td>\n",
       "      <td>69.2</td>\n",
       "      <td>22.1</td>\n",
       "    </tr>\n",
       "    <tr>\n",
       "      <th>1</th>\n",
       "      <td>44.5</td>\n",
       "      <td>39.3</td>\n",
       "      <td>45.1</td>\n",
       "      <td>10.4</td>\n",
       "    </tr>\n",
       "    <tr>\n",
       "      <th>2</th>\n",
       "      <td>17.2</td>\n",
       "      <td>45.9</td>\n",
       "      <td>69.3</td>\n",
       "      <td>12.0</td>\n",
       "    </tr>\n",
       "    <tr>\n",
       "      <th>3</th>\n",
       "      <td>151.5</td>\n",
       "      <td>41.3</td>\n",
       "      <td>58.5</td>\n",
       "      <td>16.5</td>\n",
       "    </tr>\n",
       "    <tr>\n",
       "      <th>4</th>\n",
       "      <td>180.8</td>\n",
       "      <td>10.8</td>\n",
       "      <td>58.4</td>\n",
       "      <td>17.9</td>\n",
       "    </tr>\n",
       "    <tr>\n",
       "      <th>...</th>\n",
       "      <td>...</td>\n",
       "      <td>...</td>\n",
       "      <td>...</td>\n",
       "      <td>...</td>\n",
       "    </tr>\n",
       "    <tr>\n",
       "      <th>195</th>\n",
       "      <td>38.2</td>\n",
       "      <td>3.7</td>\n",
       "      <td>13.8</td>\n",
       "      <td>7.6</td>\n",
       "    </tr>\n",
       "    <tr>\n",
       "      <th>196</th>\n",
       "      <td>94.2</td>\n",
       "      <td>4.9</td>\n",
       "      <td>8.1</td>\n",
       "      <td>14.0</td>\n",
       "    </tr>\n",
       "    <tr>\n",
       "      <th>197</th>\n",
       "      <td>177.0</td>\n",
       "      <td>9.3</td>\n",
       "      <td>6.4</td>\n",
       "      <td>14.8</td>\n",
       "    </tr>\n",
       "    <tr>\n",
       "      <th>198</th>\n",
       "      <td>283.6</td>\n",
       "      <td>42.0</td>\n",
       "      <td>66.2</td>\n",
       "      <td>25.5</td>\n",
       "    </tr>\n",
       "    <tr>\n",
       "      <th>199</th>\n",
       "      <td>232.1</td>\n",
       "      <td>8.6</td>\n",
       "      <td>8.7</td>\n",
       "      <td>18.4</td>\n",
       "    </tr>\n",
       "  </tbody>\n",
       "</table>\n",
       "<p>200 rows × 4 columns</p>\n",
       "</div>"
      ],
      "text/plain": [
       "        TV  Radio  Newspaper  Sales\n",
       "0    230.1   37.8       69.2   22.1\n",
       "1     44.5   39.3       45.1   10.4\n",
       "2     17.2   45.9       69.3   12.0\n",
       "3    151.5   41.3       58.5   16.5\n",
       "4    180.8   10.8       58.4   17.9\n",
       "..     ...    ...        ...    ...\n",
       "195   38.2    3.7       13.8    7.6\n",
       "196   94.2    4.9        8.1   14.0\n",
       "197  177.0    9.3        6.4   14.8\n",
       "198  283.6   42.0       66.2   25.5\n",
       "199  232.1    8.6        8.7   18.4\n",
       "\n",
       "[200 rows x 4 columns]"
      ]
     },
     "execution_count": 9,
     "metadata": {},
     "output_type": "execute_result"
    }
   ],
   "source": [
    "data"
   ]
  },
  {
   "cell_type": "code",
   "execution_count": 10,
   "id": "26e149cc",
   "metadata": {},
   "outputs": [
    {
     "data": {
      "text/html": [
       "<div>\n",
       "<style scoped>\n",
       "    .dataframe tbody tr th:only-of-type {\n",
       "        vertical-align: middle;\n",
       "    }\n",
       "\n",
       "    .dataframe tbody tr th {\n",
       "        vertical-align: top;\n",
       "    }\n",
       "\n",
       "    .dataframe thead th {\n",
       "        text-align: right;\n",
       "    }\n",
       "</style>\n",
       "<table border=\"1\" class=\"dataframe\">\n",
       "  <thead>\n",
       "    <tr style=\"text-align: right;\">\n",
       "      <th></th>\n",
       "      <th>TV</th>\n",
       "      <th>Radio</th>\n",
       "      <th>Newspaper</th>\n",
       "      <th>Sales</th>\n",
       "    </tr>\n",
       "  </thead>\n",
       "  <tbody>\n",
       "    <tr>\n",
       "      <th>0</th>\n",
       "      <td>230.1</td>\n",
       "      <td>37.8</td>\n",
       "      <td>69.2</td>\n",
       "      <td>22.1</td>\n",
       "    </tr>\n",
       "    <tr>\n",
       "      <th>1</th>\n",
       "      <td>44.5</td>\n",
       "      <td>39.3</td>\n",
       "      <td>45.1</td>\n",
       "      <td>10.4</td>\n",
       "    </tr>\n",
       "    <tr>\n",
       "      <th>2</th>\n",
       "      <td>17.2</td>\n",
       "      <td>45.9</td>\n",
       "      <td>69.3</td>\n",
       "      <td>12.0</td>\n",
       "    </tr>\n",
       "    <tr>\n",
       "      <th>3</th>\n",
       "      <td>151.5</td>\n",
       "      <td>41.3</td>\n",
       "      <td>58.5</td>\n",
       "      <td>16.5</td>\n",
       "    </tr>\n",
       "    <tr>\n",
       "      <th>4</th>\n",
       "      <td>180.8</td>\n",
       "      <td>10.8</td>\n",
       "      <td>58.4</td>\n",
       "      <td>17.9</td>\n",
       "    </tr>\n",
       "  </tbody>\n",
       "</table>\n",
       "</div>"
      ],
      "text/plain": [
       "      TV  Radio  Newspaper  Sales\n",
       "0  230.1   37.8       69.2   22.1\n",
       "1   44.5   39.3       45.1   10.4\n",
       "2   17.2   45.9       69.3   12.0\n",
       "3  151.5   41.3       58.5   16.5\n",
       "4  180.8   10.8       58.4   17.9"
      ]
     },
     "execution_count": 10,
     "metadata": {},
     "output_type": "execute_result"
    }
   ],
   "source": [
    "data.head()"
   ]
  },
  {
   "cell_type": "code",
   "execution_count": 18,
   "id": "1b535730",
   "metadata": {},
   "outputs": [
    {
     "data": {
      "text/html": [
       "<div>\n",
       "<style scoped>\n",
       "    .dataframe tbody tr th:only-of-type {\n",
       "        vertical-align: middle;\n",
       "    }\n",
       "\n",
       "    .dataframe tbody tr th {\n",
       "        vertical-align: top;\n",
       "    }\n",
       "\n",
       "    .dataframe thead th {\n",
       "        text-align: right;\n",
       "    }\n",
       "</style>\n",
       "<table border=\"1\" class=\"dataframe\">\n",
       "  <thead>\n",
       "    <tr style=\"text-align: right;\">\n",
       "      <th></th>\n",
       "      <th>TV</th>\n",
       "      <th>Radio</th>\n",
       "      <th>Newspaper</th>\n",
       "      <th>Sales</th>\n",
       "    </tr>\n",
       "  </thead>\n",
       "  <tbody>\n",
       "    <tr>\n",
       "      <th>count</th>\n",
       "      <td>200.000000</td>\n",
       "      <td>200.000000</td>\n",
       "      <td>200.000000</td>\n",
       "      <td>200.000000</td>\n",
       "    </tr>\n",
       "    <tr>\n",
       "      <th>mean</th>\n",
       "      <td>147.042500</td>\n",
       "      <td>23.264000</td>\n",
       "      <td>30.554000</td>\n",
       "      <td>15.130500</td>\n",
       "    </tr>\n",
       "    <tr>\n",
       "      <th>std</th>\n",
       "      <td>85.854236</td>\n",
       "      <td>14.846809</td>\n",
       "      <td>21.778621</td>\n",
       "      <td>5.283892</td>\n",
       "    </tr>\n",
       "    <tr>\n",
       "      <th>min</th>\n",
       "      <td>0.700000</td>\n",
       "      <td>0.000000</td>\n",
       "      <td>0.300000</td>\n",
       "      <td>1.600000</td>\n",
       "    </tr>\n",
       "    <tr>\n",
       "      <th>25%</th>\n",
       "      <td>74.375000</td>\n",
       "      <td>9.975000</td>\n",
       "      <td>12.750000</td>\n",
       "      <td>11.000000</td>\n",
       "    </tr>\n",
       "    <tr>\n",
       "      <th>50%</th>\n",
       "      <td>149.750000</td>\n",
       "      <td>22.900000</td>\n",
       "      <td>25.750000</td>\n",
       "      <td>16.000000</td>\n",
       "    </tr>\n",
       "    <tr>\n",
       "      <th>75%</th>\n",
       "      <td>218.825000</td>\n",
       "      <td>36.525000</td>\n",
       "      <td>45.100000</td>\n",
       "      <td>19.050000</td>\n",
       "    </tr>\n",
       "    <tr>\n",
       "      <th>max</th>\n",
       "      <td>296.400000</td>\n",
       "      <td>49.600000</td>\n",
       "      <td>114.000000</td>\n",
       "      <td>27.000000</td>\n",
       "    </tr>\n",
       "  </tbody>\n",
       "</table>\n",
       "</div>"
      ],
      "text/plain": [
       "               TV       Radio   Newspaper       Sales\n",
       "count  200.000000  200.000000  200.000000  200.000000\n",
       "mean   147.042500   23.264000   30.554000   15.130500\n",
       "std     85.854236   14.846809   21.778621    5.283892\n",
       "min      0.700000    0.000000    0.300000    1.600000\n",
       "25%     74.375000    9.975000   12.750000   11.000000\n",
       "50%    149.750000   22.900000   25.750000   16.000000\n",
       "75%    218.825000   36.525000   45.100000   19.050000\n",
       "max    296.400000   49.600000  114.000000   27.000000"
      ]
     },
     "execution_count": 18,
     "metadata": {},
     "output_type": "execute_result"
    }
   ],
   "source": [
    "data.describe()"
   ]
  },
  {
   "cell_type": "code",
   "execution_count": 14,
   "id": "31674a92",
   "metadata": {},
   "outputs": [
    {
     "data": {
      "text/plain": [
       "array([[230.1,  37.8,  69.2,  22.1],\n",
       "       [ 44.5,  39.3,  45.1,  10.4],\n",
       "       [ 17.2,  45.9,  69.3,  12. ],\n",
       "       [151.5,  41.3,  58.5,  16.5],\n",
       "       [180.8,  10.8,  58.4,  17.9],\n",
       "       [  8.7,  48.9,  75. ,   7.2],\n",
       "       [ 57.5,  32.8,  23.5,  11.8],\n",
       "       [120.2,  19.6,  11.6,  13.2],\n",
       "       [  8.6,   2.1,   1. ,   4.8],\n",
       "       [199.8,   2.6,  21.2,  15.6],\n",
       "       [ 66.1,   5.8,  24.2,  12.6],\n",
       "       [214.7,  24. ,   4. ,  17.4],\n",
       "       [ 23.8,  35.1,  65.9,   9.2],\n",
       "       [ 97.5,   7.6,   7.2,  13.7],\n",
       "       [204.1,  32.9,  46. ,  19. ],\n",
       "       [195.4,  47.7,  52.9,  22.4],\n",
       "       [ 67.8,  36.6, 114. ,  12.5],\n",
       "       [281.4,  39.6,  55.8,  24.4],\n",
       "       [ 69.2,  20.5,  18.3,  11.3],\n",
       "       [147.3,  23.9,  19.1,  14.6],\n",
       "       [218.4,  27.7,  53.4,  18. ],\n",
       "       [237.4,   5.1,  23.5,  17.5],\n",
       "       [ 13.2,  15.9,  49.6,   5.6],\n",
       "       [228.3,  16.9,  26.2,  20.5],\n",
       "       [ 62.3,  12.6,  18.3,   9.7],\n",
       "       [262.9,   3.5,  19.5,  17. ],\n",
       "       [142.9,  29.3,  12.6,  15. ],\n",
       "       [240.1,  16.7,  22.9,  20.9],\n",
       "       [248.8,  27.1,  22.9,  18.9],\n",
       "       [ 70.6,  16. ,  40.8,  10.5],\n",
       "       [292.9,  28.3,  43.2,  21.4],\n",
       "       [112.9,  17.4,  38.6,  11.9],\n",
       "       [ 97.2,   1.5,  30. ,  13.2],\n",
       "       [265.6,  20. ,   0.3,  17.4],\n",
       "       [ 95.7,   1.4,   7.4,  11.9],\n",
       "       [290.7,   4.1,   8.5,  17.8],\n",
       "       [266.9,  43.8,   5. ,  25.4],\n",
       "       [ 74.7,  49.4,  45.7,  14.7],\n",
       "       [ 43.1,  26.7,  35.1,  10.1],\n",
       "       [228. ,  37.7,  32. ,  21.5],\n",
       "       [202.5,  22.3,  31.6,  16.6],\n",
       "       [177. ,  33.4,  38.7,  17.1],\n",
       "       [293.6,  27.7,   1.8,  20.7],\n",
       "       [206.9,   8.4,  26.4,  17.9],\n",
       "       [ 25.1,  25.7,  43.3,   8.5],\n",
       "       [175.1,  22.5,  31.5,  16.1],\n",
       "       [ 89.7,   9.9,  35.7,  10.6],\n",
       "       [239.9,  41.5,  18.5,  23.2],\n",
       "       [227.2,  15.8,  49.9,  19.8],\n",
       "       [ 66.9,  11.7,  36.8,   9.7],\n",
       "       [199.8,   3.1,  34.6,  16.4],\n",
       "       [100.4,   9.6,   3.6,  10.7],\n",
       "       [216.4,  41.7,  39.6,  22.6],\n",
       "       [182.6,  46.2,  58.7,  21.2],\n",
       "       [262.7,  28.8,  15.9,  20.2],\n",
       "       [198.9,  49.4,  60. ,  23.7],\n",
       "       [  7.3,  28.1,  41.4,   5.5],\n",
       "       [136.2,  19.2,  16.6,  13.2],\n",
       "       [210.8,  49.6,  37.7,  23.8],\n",
       "       [210.7,  29.5,   9.3,  18.4],\n",
       "       [ 53.5,   2. ,  21.4,   8.1],\n",
       "       [261.3,  42.7,  54.7,  24.2],\n",
       "       [239.3,  15.5,  27.3,  20.7],\n",
       "       [102.7,  29.6,   8.4,  14. ],\n",
       "       [131.1,  42.8,  28.9,  16. ],\n",
       "       [ 69. ,   9.3,   0.9,  11.3],\n",
       "       [ 31.5,  24.6,   2.2,  11. ],\n",
       "       [139.3,  14.5,  10.2,  13.4],\n",
       "       [237.4,  27.5,  11. ,  18.9],\n",
       "       [216.8,  43.9,  27.2,  22.3],\n",
       "       [199.1,  30.6,  38.7,  18.3],\n",
       "       [109.8,  14.3,  31.7,  12.4],\n",
       "       [ 26.8,  33. ,  19.3,   8.8],\n",
       "       [129.4,   5.7,  31.3,  11. ],\n",
       "       [213.4,  24.6,  13.1,  17. ],\n",
       "       [ 16.9,  43.7,  89.4,   8.7],\n",
       "       [ 27.5,   1.6,  20.7,   6.9],\n",
       "       [120.5,  28.5,  14.2,  14.2],\n",
       "       [  5.4,  29.9,   9.4,   5.3],\n",
       "       [116. ,   7.7,  23.1,  11. ],\n",
       "       [ 76.4,  26.7,  22.3,  11.8],\n",
       "       [239.8,   4.1,  36.9,  17.3],\n",
       "       [ 75.3,  20.3,  32.5,  11.3],\n",
       "       [ 68.4,  44.5,  35.6,  13.6],\n",
       "       [213.5,  43. ,  33.8,  21.7],\n",
       "       [193.2,  18.4,  65.7,  20.2],\n",
       "       [ 76.3,  27.5,  16. ,  12. ],\n",
       "       [110.7,  40.6,  63.2,  16. ],\n",
       "       [ 88.3,  25.5,  73.4,  12.9],\n",
       "       [109.8,  47.8,  51.4,  16.7],\n",
       "       [134.3,   4.9,   9.3,  14. ],\n",
       "       [ 28.6,   1.5,  33. ,   7.3],\n",
       "       [217.7,  33.5,  59. ,  19.4],\n",
       "       [250.9,  36.5,  72.3,  22.2],\n",
       "       [107.4,  14. ,  10.9,  11.5],\n",
       "       [163.3,  31.6,  52.9,  16.9],\n",
       "       [197.6,   3.5,   5.9,  16.7],\n",
       "       [184.9,  21. ,  22. ,  20.5],\n",
       "       [289.7,  42.3,  51.2,  25.4],\n",
       "       [135.2,  41.7,  45.9,  17.2],\n",
       "       [222.4,   4.3,  49.8,  16.7],\n",
       "       [296.4,  36.3, 100.9,  23.8],\n",
       "       [280.2,  10.1,  21.4,  19.8],\n",
       "       [187.9,  17.2,  17.9,  19.7],\n",
       "       [238.2,  34.3,   5.3,  20.7],\n",
       "       [137.9,  46.4,  59. ,  15. ],\n",
       "       [ 25. ,  11. ,  29.7,   7.2],\n",
       "       [ 90.4,   0.3,  23.2,  12. ],\n",
       "       [ 13.1,   0.4,  25.6,   5.3],\n",
       "       [255.4,  26.9,   5.5,  19.8],\n",
       "       [225.8,   8.2,  56.5,  18.4],\n",
       "       [241.7,  38. ,  23.2,  21.8],\n",
       "       [175.7,  15.4,   2.4,  17.1],\n",
       "       [209.6,  20.6,  10.7,  20.9],\n",
       "       [ 78.2,  46.8,  34.5,  14.6],\n",
       "       [ 75.1,  35. ,  52.7,  12.6],\n",
       "       [139.2,  14.3,  25.6,  12.2],\n",
       "       [ 76.4,   0.8,  14.8,   9.4],\n",
       "       [125.7,  36.9,  79.2,  15.9],\n",
       "       [ 19.4,  16. ,  22.3,   6.6],\n",
       "       [141.3,  26.8,  46.2,  15.5],\n",
       "       [ 18.8,  21.7,  50.4,   7. ],\n",
       "       [224. ,   2.4,  15.6,  16.6],\n",
       "       [123.1,  34.6,  12.4,  15.2],\n",
       "       [229.5,  32.3,  74.2,  19.7],\n",
       "       [ 87.2,  11.8,  25.9,  10.6],\n",
       "       [  7.8,  38.9,  50.6,   6.6],\n",
       "       [ 80.2,   0. ,   9.2,  11.9],\n",
       "       [220.3,  49. ,   3.2,  24.7],\n",
       "       [ 59.6,  12. ,  43.1,   9.7],\n",
       "       [  0.7,  39.6,   8.7,   1.6],\n",
       "       [265.2,   2.9,  43. ,  17.7],\n",
       "       [  8.4,  27.2,   2.1,   5.7],\n",
       "       [219.8,  33.5,  45.1,  19.6],\n",
       "       [ 36.9,  38.6,  65.6,  10.8],\n",
       "       [ 48.3,  47. ,   8.5,  11.6],\n",
       "       [ 25.6,  39. ,   9.3,   9.5],\n",
       "       [273.7,  28.9,  59.7,  20.8],\n",
       "       [ 43. ,  25.9,  20.5,   9.6],\n",
       "       [184.9,  43.9,   1.7,  20.7],\n",
       "       [ 73.4,  17. ,  12.9,  10.9],\n",
       "       [193.7,  35.4,  75.6,  19.2],\n",
       "       [220.5,  33.2,  37.9,  20.1],\n",
       "       [104.6,   5.7,  34.4,  10.4],\n",
       "       [ 96.2,  14.8,  38.9,  12.3],\n",
       "       [140.3,   1.9,   9. ,  10.3],\n",
       "       [240.1,   7.3,   8.7,  18.2],\n",
       "       [243.2,  49. ,  44.3,  25.4],\n",
       "       [ 38. ,  40.3,  11.9,  10.9],\n",
       "       [ 44.7,  25.8,  20.6,  10.1],\n",
       "       [280.7,  13.9,  37. ,  16.1],\n",
       "       [121. ,   8.4,  48.7,  11.6],\n",
       "       [197.6,  23.3,  14.2,  16.6],\n",
       "       [171.3,  39.7,  37.7,  16. ],\n",
       "       [187.8,  21.1,   9.5,  20.6],\n",
       "       [  4.1,  11.6,   5.7,   3.2],\n",
       "       [ 93.9,  43.5,  50.5,  15.3],\n",
       "       [149.8,   1.3,  24.3,  10.1],\n",
       "       [ 11.7,  36.9,  45.2,   7.3],\n",
       "       [131.7,  18.4,  34.6,  12.9],\n",
       "       [172.5,  18.1,  30.7,  16.4],\n",
       "       [ 85.7,  35.8,  49.3,  13.3],\n",
       "       [188.4,  18.1,  25.6,  19.9],\n",
       "       [163.5,  36.8,   7.4,  18. ],\n",
       "       [117.2,  14.7,   5.4,  11.9],\n",
       "       [234.5,   3.4,  84.8,  16.9],\n",
       "       [ 17.9,  37.6,  21.6,   8. ],\n",
       "       [206.8,   5.2,  19.4,  17.2],\n",
       "       [215.4,  23.6,  57.6,  17.1],\n",
       "       [284.3,  10.6,   6.4,  20. ],\n",
       "       [ 50. ,  11.6,  18.4,   8.4],\n",
       "       [164.5,  20.9,  47.4,  17.5],\n",
       "       [ 19.6,  20.1,  17. ,   7.6],\n",
       "       [168.4,   7.1,  12.8,  16.7],\n",
       "       [222.4,   3.4,  13.1,  16.5],\n",
       "       [276.9,  48.9,  41.8,  27. ],\n",
       "       [248.4,  30.2,  20.3,  20.2],\n",
       "       [170.2,   7.8,  35.2,  16.7],\n",
       "       [276.7,   2.3,  23.7,  16.8],\n",
       "       [165.6,  10. ,  17.6,  17.6],\n",
       "       [156.6,   2.6,   8.3,  15.5],\n",
       "       [218.5,   5.4,  27.4,  17.2],\n",
       "       [ 56.2,   5.7,  29.7,   8.7],\n",
       "       [287.6,  43. ,  71.8,  26.2],\n",
       "       [253.8,  21.3,  30. ,  17.6],\n",
       "       [205. ,  45.1,  19.6,  22.6],\n",
       "       [139.5,   2.1,  26.6,  10.3],\n",
       "       [191.1,  28.7,  18.2,  17.3],\n",
       "       [286. ,  13.9,   3.7,  20.9],\n",
       "       [ 18.7,  12.1,  23.4,   6.7],\n",
       "       [ 39.5,  41.1,   5.8,  10.8],\n",
       "       [ 75.5,  10.8,   6. ,  11.9],\n",
       "       [ 17.2,   4.1,  31.6,   5.9],\n",
       "       [166.8,  42. ,   3.6,  19.6],\n",
       "       [149.7,  35.6,   6. ,  17.3],\n",
       "       [ 38.2,   3.7,  13.8,   7.6],\n",
       "       [ 94.2,   4.9,   8.1,  14. ],\n",
       "       [177. ,   9.3,   6.4,  14.8],\n",
       "       [283.6,  42. ,  66.2,  25.5],\n",
       "       [232.1,   8.6,   8.7,  18.4]])"
      ]
     },
     "execution_count": 14,
     "metadata": {},
     "output_type": "execute_result"
    }
   ],
   "source": [
    "data.values"
   ]
  },
  {
   "cell_type": "code",
   "execution_count": 17,
   "id": "e739020f",
   "metadata": {},
   "outputs": [
    {
     "name": "stdout",
     "output_type": "stream",
     "text": [
      "The shape of the dataset is: (200, 4)\n"
     ]
    }
   ],
   "source": [
    "shape = data.shape\n",
    "print(\"The shape of the dataset is: \" + str(shape))"
   ]
  },
  {
   "cell_type": "code",
   "execution_count": 33,
   "id": "21fe8d34",
   "metadata": {},
   "outputs": [
    {
     "data": {
      "text/plain": [
       "TV           0\n",
       "Radio        0\n",
       "Newspaper    0\n",
       "Sales        0\n",
       "dtype: int64"
      ]
     },
     "execution_count": 33,
     "metadata": {},
     "output_type": "execute_result"
    }
   ],
   "source": [
    "data.isnull().sum()"
   ]
  },
  {
   "cell_type": "markdown",
   "id": "888f1291",
   "metadata": {},
   "source": [
    "### Now we calculate Skewness and Kurtosis"
   ]
  },
  {
   "cell_type": "code",
   "execution_count": 30,
   "id": "c967890e",
   "metadata": {},
   "outputs": [
    {
     "name": "stdout",
     "output_type": "stream",
     "text": [
      "*************************\n",
      "SKEWNESS\n",
      "*************************\n",
      "TV:-0.06933\n",
      "Radio:0.09347\n",
      "Sales:-0.07319\n",
      "NewsPaper:0.888\n",
      "*************************\n"
     ]
    }
   ],
   "source": [
    "print(\"*\"*25)\n",
    "print(\"SKEWNESS\")\n",
    "print(\"*\"*25)\n",
    "print(\"TV:\"+ str((round(skew(data.TV, axis=0, bias=True),5))))\n",
    "print(\"Radio:\" + str((round(skew(data.Radio, axis=0, bias=True),5))))\n",
    "print(\"Sales:\" + str((round(skew(data.Sales, axis=0, bias=True),5))))\n",
    "print(\"NewsPaper:\" + str((round(skew(data.Newspaper, axis=0, bias=True),5))))\n",
    "print(\"*\"*25)"
   ]
  },
  {
   "cell_type": "code",
   "execution_count": 31,
   "id": "a90ed6e6",
   "metadata": {},
   "outputs": [
    {
     "name": "stdout",
     "output_type": "stream",
     "text": [
      "*************************\n",
      "KURTOSIS\n",
      "*************************\n",
      "TV:-1.2259\n",
      "Radio:-1.25896\n",
      "Sales:-0.65404\n",
      "NewsPaper:0.60353\n",
      "*************************\n"
     ]
    }
   ],
   "source": [
    "print(\"*\"*25)\n",
    "print(\"KURTOSIS\")\n",
    "print(\"*\"*25)\n",
    "print(\"TV:\"+ str((round(kurtosis(data.TV, axis=0, bias=True),5))))\n",
    "print(\"Radio:\" + str((round(kurtosis(data.Radio, axis=0, bias=True),5))))\n",
    "print(\"Sales:\" + str((round(kurtosis(data.Sales, axis=0, bias=True),5))))\n",
    "print(\"NewsPaper:\" + str((round(kurtosis(data.Newspaper, axis=0, bias=True),5))))\n",
    "print(\"*\"*25)"
   ]
  },
  {
   "cell_type": "markdown",
   "id": "370fd940",
   "metadata": {},
   "source": [
    "## Data Visualisation"
   ]
  },
  {
   "cell_type": "code",
   "execution_count": 38,
   "id": "96657f27",
   "metadata": {},
   "outputs": [
    {
     "data": {
      "image/png": "[encoded data removed]",
      "text/plain": [
       "<Figure size 500x500 with 3 Axes>"
      ]
     },
     "metadata": {},
     "output_type": "display_data"
    }
   ],
   "source": [
    "fig, axs = py.subplots(3, figsize= (5,5))\n",
    "py1 = sb.boxplot(data['TV'], ax=axs[0])\n",
    "py1 = sb.boxplot(data['Radio'], ax=axs[1])\n",
    "py1 = sb.boxplot(data['Newspaper'], ax=axs[2])\n",
    "py.tight_layout()"
   ]
  },
  {
   "cell_type": "code",
   "execution_count": 44,
   "id": "b6dd9cb0",
   "metadata": {},
   "outputs": [
    {
     "name": "stderr",
     "output_type": "stream",
     "text": [
      "C:\\Users\\Ozwin\\anaconda3\\Lib\\site-packages\\seaborn\\axisgrid.py:118: UserWarning: The figure layout has changed to tight\n",
      "  self._figure.tight_layout(*args, **kwargs)\n"
     ]
    },
    {
     "name": "stdout",
     "output_type": "stream",
     "text": [
      "Relation of TV, radio and Newspaper with Sales\n",
      "The below figure shows a posotive relation of TV whereas it cannot be seen with Newspaper and Radio sales\n"
     ]
    },
    {
     "data": {
      "image/png": "[encoded data removed]",
      "text/plain": [
       "<Figure size 1500x500 with 3 Axes>"
      ]
     },
     "metadata": {},
     "output_type": "display_data"
    }
   ],
   "source": [
    "sb.pairplot(data, x_vars=['TV', 'Radio', 'Newspaper'], y_vars='Sales', height=5,aspect=1, kind='scatter')\n",
    "print(\"Relation of TV, radio and Newspaper with Sales\")\n",
    "print(\"The below figure shows a posotive relation of TV whereas it cannot be seen with Newspaper and Radio sales\")"
   ]
  },
  {
   "cell_type": "code",
   "execution_count": 47,
   "id": "8ca2427a",
   "metadata": {},
   "outputs": [
    {
     "data": {
      "image/png": "[encoded data removed]",
      "text/plain": [
       "<Figure size 500x500 with 2 Axes>"
      ]
     },
     "metadata": {},
     "output_type": "display_data"
    },
    {
     "name": "stdout",
     "output_type": "stream",
     "text": [
      "Heatmap shows us that TV i the most co-related with Sales\n"
     ]
    }
   ],
   "source": [
    "py.figure(figsize=(5,5))\n",
    "sb.heatmap(data.corr(), cmap=\"coolwarm\", annot=True)\n",
    "py.show()\n",
    "print(\"Heatmap shows us that TV i the most co-related with Sales\")"
   ]
  },
  {
   "cell_type": "markdown",
   "id": "f188d389",
   "metadata": {},
   "source": [
    "## Linear Regression"
   ]
  },
  {
   "cell_type": "code",
   "execution_count": 48,
   "id": "f86eeecb",
   "metadata": {},
   "outputs": [],
   "source": [
    "X = data['TV']\n",
    "y = data['Sales']"
   ]
  },
  {
   "cell_type": "code",
   "execution_count": 53,
   "id": "523d6f99",
   "metadata": {},
   "outputs": [],
   "source": [
    "from sklearn.model_selection import train_test_split\n",
    "X_train, X_test, y_train, y_test = train_test_split(X, y, train_size=0.7, test_size=0.3, random_state = 100) "
   ]
  },
  {
   "cell_type": "code",
   "execution_count": 54,
   "id": "c68c41d5",
   "metadata": {},
   "outputs": [
    {
     "data": {
      "text/plain": [
       "74     213.4\n",
       "3      151.5\n",
       "185    205.0\n",
       "26     142.9\n",
       "90     134.3\n",
       "       ...  \n",
       "87     110.7\n",
       "103    187.9\n",
       "67     139.3\n",
       "24      62.3\n",
       "8        8.6\n",
       "Name: TV, Length: 140, dtype: float64"
      ]
     },
     "execution_count": 54,
     "metadata": {},
     "output_type": "execute_result"
    }
   ],
   "source": [
    "X_train"
   ]
  },
  {
   "cell_type": "code",
   "execution_count": 55,
   "id": "340076bf",
   "metadata": {},
   "outputs": [
    {
     "data": {
      "text/plain": [
       "74     17.0\n",
       "3      16.5\n",
       "185    22.6\n",
       "26     15.0\n",
       "90     14.0\n",
       "       ... \n",
       "87     16.0\n",
       "103    19.7\n",
       "67     13.4\n",
       "24      9.7\n",
       "8       4.8\n",
       "Name: Sales, Length: 140, dtype: float64"
      ]
     },
     "execution_count": 55,
     "metadata": {},
     "output_type": "execute_result"
    }
   ],
   "source": [
    "y_train"
   ]
  },
  {
   "cell_type": "code",
   "execution_count": 67,
   "id": "c9fc3760",
   "metadata": {},
   "outputs": [],
   "source": [
    "X_train_sm = sm.add_constant(X_train)\n",
    "lr = sm.OLS(y_train, X_train_sm).fit()"
   ]
  },
  {
   "cell_type": "code",
   "execution_count": 68,
   "id": "4a4badc3",
   "metadata": {},
   "outputs": [
    {
     "data": {
      "text/plain": [
       "const    6.948683\n",
       "TV       0.054546\n",
       "dtype: float64"
      ]
     },
     "execution_count": 68,
     "metadata": {},
     "output_type": "execute_result"
    }
   ],
   "source": [
    "lr.params"
   ]
  },
  {
   "cell_type": "code",
   "execution_count": 69,
   "id": "96118046",
   "metadata": {},
   "outputs": [
    {
     "name": "stdout",
     "output_type": "stream",
     "text": [
      "                            OLS Regression Results                            \n",
      "==============================================================================\n",
      "Dep. Variable:                  Sales   R-squared:                       0.816\n",
      "Model:                            OLS   Adj. R-squared:                  0.814\n",
      "Method:                 Least Squares   F-statistic:                     611.2\n",
      "Date:                Tue, 26 Dec 2023   Prob (F-statistic):           1.52e-52\n",
      "Time:                        19:53:42   Log-Likelihood:                -321.12\n",
      "No. Observations:                 140   AIC:                             646.2\n",
      "Df Residuals:                     138   BIC:                             652.1\n",
      "Df Model:                           1                                         \n",
      "Covariance Type:            nonrobust                                         \n",
      "==============================================================================\n",
      "                 coef    std err          t      P>|t|      [0.025      0.975]\n",
      "------------------------------------------------------------------------------\n",
      "const          6.9487      0.385     18.068      0.000       6.188       7.709\n",
      "TV             0.0545      0.002     24.722      0.000       0.050       0.059\n",
      "==============================================================================\n",
      "Omnibus:                        0.027   Durbin-Watson:                   2.196\n",
      "Prob(Omnibus):                  0.987   Jarque-Bera (JB):                0.150\n",
      "Skew:                          -0.006   Prob(JB):                        0.928\n",
      "Kurtosis:                       2.840   Cond. No.                         328.\n",
      "==============================================================================\n",
      "\n",
      "Notes:\n",
      "[1] Standard Errors assume that the covariance matrix of the errors is correctly specified.\n"
     ]
    }
   ],
   "source": [
    "print(lr.summary())"
   ]
  },
  {
   "cell_type": "code",
   "execution_count": 72,
   "id": "573cb89f",
   "metadata": {},
   "outputs": [
    {
     "data": {
      "image/png": "[encoded data removed]",
      "text/plain": [
       "<Figure size 640x480 with 1 Axes>"
      ]
     },
     "metadata": {},
     "output_type": "display_data"
    }
   ],
   "source": [
    "py.scatter(X_train, y_train, label=\"Actual Data\")\n",
    "py.plot(X_train, 6.948 + 0.054*X_train,'r', label=\"Regression Line\")\n",
    "py.xlabel(\"X_test\")\n",
    "py.ylabel(\"Y_test\")\n",
    "py.legend()\n",
    "py.show()"
   ]
  },
  {
   "cell_type": "code",
   "execution_count": 74,
   "id": "2993d271",
   "metadata": {},
   "outputs": [],
   "source": [
    "# By this we can predict that the TV sales have gone high and by regression technique we come to know that the\n",
    "#TV sales in the future is going high "
   ]
  },
  {
   "cell_type": "code",
   "execution_count": null,
   "id": "01da0073",
   "metadata": {},
   "outputs": [],
   "source": []
  }
 ],
 "metadata": {
  "kernelspec": {
   "display_name": "Python 3 (ipykernel)",
   "language": "python",
   "name": "python3"
  },
  "language_info": {
   "codemirror_mode": {
    "name": "ipython",
    "version": 3
   },
   "file_extension": ".py",
   "mimetype": "text/x-python",
   "name": "python",
   "nbconvert_exporter": "python",
   "pygments_lexer": "ipython3",
   "version": "3.11.5"
  }
 },
 "nbformat": 4,
 "nbformat_minor": 5
}
